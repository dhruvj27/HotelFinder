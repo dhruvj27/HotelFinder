{
  "nbformat": 4,
  "nbformat_minor": 0,
  "metadata": {
    "colab": {
      "provenance": []
    },
    "kernelspec": {
      "name": "python3",
      "display_name": "Python 3"
    },
    "language_info": {
      "name": "python"
    }
  },
  "cells": [
    {
      "cell_type": "code",
      "source": [
        "import pandas as pd\n",
        "from sklearn.feature_extraction.text import TfidfVectorizer\n",
        "from sklearn.metrics.pairwise import cosine_similarity\n",
        "\n",
        "# STEP 1: Load dataset from GitHub\n",
        "url = \"https://raw.githubusercontent.com/dhruvj27/HotelRecommendationSystemNPN/main/data/processed/preprocessed_hotel_data_final_new.csv\"\n",
        "df = pd.read_csv(url)\n",
        "\n",
        "print(\"✅ Dataset loaded:\", df.shape)\n",
        "\n",
        "# STEP 2: Create a combined feature column\n",
        "df['combined_features'] = (\n",
        "    df['location'].astype(str) + \" \" +\n",
        "    df['rating_description'].astype(str) + \" \" +\n",
        "    df['star_rating'].astype(str)\n",
        ")\n",
        "\n",
        "# STEP 3: Convert text into TF-IDF vectors\n",
        "vectorizer = TfidfVectorizer()\n",
        "feature_matrix = vectorizer.fit_transform(df['combined_features'])\n",
        "\n",
        "# STEP 4: Compute similarity between hotels\n",
        "similarity = cosine_similarity(feature_matrix)\n",
        "\n",
        "# STEP 5: Define recommendation function\n",
        "def recommend(hotel_name, top_n=5):\n",
        "    if hotel_name not in df['hotel_name'].values:\n",
        "        return f\"❌ Hotel '{hotel_name}' not found in dataset.\"\n",
        "\n",
        "    idx = df[df['hotel_name'] == hotel_name].index[0]\n",
        "    scores = list(enumerate(similarity[idx]))\n",
        "    scores = sorted(scores, key=lambda x: x[1], reverse=True)\n",
        "\n",
        "    # Collect recommended hotels with details\n",
        "    recommendations = df.iloc[[i[0] for i in scores[1:top_n+1]]][['hotel_name', 'city', 'price_per_night']]\n",
        "    return recommendations\n",
        "\n",
        "# STEP 6: Take user input\n",
        "hotel_name = input(\"Enter a hotel name: \")\n",
        "\n",
        "print(\"\\nRecommended Hotels:\\n\")\n",
        "print(recommend(hotel_name))\n"
      ],
      "metadata": {
        "colab": {
          "base_uri": "https://localhost:8080/"
        },
        "id": "E8ZDQANaQiHa",
        "outputId": "d9dea480-2f3b-4387-99ac-7375d8d65c05"
      },
      "execution_count": 1,
      "outputs": [
        {
          "output_type": "stream",
          "name": "stdout",
          "text": [
            "✅ Dataset loaded: (4632, 39)\n",
            "Enter a hotel name: The Park Bangalore\n",
            "\n",
            "Recommended Hotels:\n",
            "\n",
            "                          hotel_name       city  price_per_night\n",
            "14   Hyatt Centric MG Road Bangalore  Bangalore           6250.0\n",
            "46    Royal Orchid Central Bangalore  Bangalore           5823.0\n",
            "32             The Oberoi, Bengaluru  Bangalore          11500.0\n",
            "42    Radisson Bengaluru City Center  Bangalore           7500.0\n",
            "121                    The Residency    Chennai           5336.0\n"
          ]
        }
      ]
    }
  ]
}